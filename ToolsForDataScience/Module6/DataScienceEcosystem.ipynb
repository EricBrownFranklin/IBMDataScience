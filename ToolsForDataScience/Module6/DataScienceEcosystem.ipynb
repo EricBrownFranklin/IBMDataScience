{
 "cells": [
  {
   "cell_type": "markdown",
   "id": "2bb78511-6392-4b41-acb7-e6267236c4ca",
   "metadata": {},
   "source": [
    "# Data Science Tools and Ecosystem"
   ]
  },
  {
   "cell_type": "markdown",
   "id": "557a6e7b-a7d6-4ace-b572-f23f2fd43404",
   "metadata": {},
   "source": [
    "In this notebook, Data Science Tools and Ecosystem are summarized."
   ]
  },
  {
   "cell_type": "markdown",
   "id": "53b3ae40-ec85-44c2-bc10-6d6cbdf93401",
   "metadata": {},
   "source": [
    "**Objectives:**\n",
    "* Popular languages for Data Scientists\n",
    "* Common libraries for Data Scientists\n",
    "* Data Science Tools\n",
    "* Short Python code examples"
   ]
  },
  {
   "cell_type": "markdown",
   "id": "09d6269b-0315-4f19-a98b-19c7f4822e66",
   "metadata": {},
   "source": [
    "Some of the popular languages that Data Scientists use are:\n",
    "1. Python\n",
    "2. R\n",
    "3. SQL"
   ]
  },
  {
   "cell_type": "markdown",
   "id": "91962628-c4e1-4930-91a6-e820163b79c9",
   "metadata": {},
   "source": [
    "Some of the commonly used libraries used by Data Scienties include:\n",
    "1. Pandas\n",
    "2. NumPy\n",
    "3. Matplotlib\n",
    "4. TensorFlow"
   ]
  },
  {
   "cell_type": "markdown",
   "id": "b5db7119-7472-4af4-86f5-0c32f5472876",
   "metadata": {},
   "source": [
    "|Data Science Tools|\n",
    "|:-----------------|\n",
    "|Jupyter Notebook|\n",
    "|RStudio|\n",
    "|VS Code|"
   ]
  },
  {
   "cell_type": "markdown",
   "id": "61472afd-0b35-4ae0-9be5-8781a37155ea",
   "metadata": {},
   "source": [
    "### Below are a few examples of evaluating arithmetic expressions in Python"
   ]
  },
  {
   "cell_type": "code",
   "execution_count": 1,
   "id": "36d2899c-cc4a-4dee-8405-975fdb1a0399",
   "metadata": {},
   "outputs": [
    {
     "data": {
      "text/plain": [
       "17"
      ]
     },
     "execution_count": 1,
     "metadata": {},
     "output_type": "execute_result"
    }
   ],
   "source": [
    "# This is a simple arithmetic expression to mutiploy then add integers\n",
    "(3*4)+5"
   ]
  },
  {
   "cell_type": "code",
   "execution_count": 2,
   "id": "afcd93e5-f66a-4ea2-ab7c-e7599759e5cc",
   "metadata": {},
   "outputs": [
    {
     "data": {
      "text/plain": [
       "3.3333333333333335"
      ]
     },
     "execution_count": 2,
     "metadata": {},
     "output_type": "execute_result"
    }
   ],
   "source": [
    "# This will convert 200 minutes to hours by dividing by 60\n",
    "200 / 60"
   ]
  },
  {
   "cell_type": "markdown",
   "id": "b4abc206-44fb-46bc-a9b4-2b3fb4a1b8e7",
   "metadata": {},
   "source": [
    "## Author\n",
    "Eric Brown"
   ]
  },
  {
   "cell_type": "code",
   "execution_count": null,
   "id": "c5cf9fc1-f7ef-4f1d-9bf5-9c9134fc4cb2",
   "metadata": {},
   "outputs": [],
   "source": []
  }
 ],
 "metadata": {
  "kernelspec": {
   "display_name": "Python 3 (ipykernel)",
   "language": "python",
   "name": "python3"
  },
  "language_info": {
   "codemirror_mode": {
    "name": "ipython",
    "version": 3
   },
   "file_extension": ".py",
   "mimetype": "text/x-python",
   "name": "python",
   "nbconvert_exporter": "python",
   "pygments_lexer": "ipython3",
   "version": "3.11.9"
  }
 },
 "nbformat": 4,
 "nbformat_minor": 5
}
